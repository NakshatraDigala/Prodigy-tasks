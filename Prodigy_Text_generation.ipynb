{
  "nbformat": 4,
  "nbformat_minor": 0,
  "metadata": {
    "colab": {
      "provenance": [],
      "authorship_tag": "ABX9TyMb+53yvk46/IYXEl/Nxd7R",
      "include_colab_link": true
    },
    "kernelspec": {
      "name": "python3",
      "display_name": "Python 3"
    },
    "language_info": {
      "name": "python"
    }
  },
  "cells": [
    {
      "cell_type": "markdown",
      "metadata": {
        "id": "view-in-github",
        "colab_type": "text"
      },
      "source": [
        "<a href=\"https://colab.research.google.com/github/NakshatraDigala/Prodigy-tasks/blob/main/Prodigy_Text_generation.ipynb\" target=\"_parent\"><img src=\"https://colab.research.google.com/assets/colab-badge.svg\" alt=\"Open In Colab\"/></a>"
      ]
    },
    {
      "cell_type": "code",
      "execution_count": null,
      "metadata": {
        "colab": {
          "base_uri": "https://localhost:8080/"
        },
        "id": "GvK-cI7d6ush",
        "outputId": "ef3b9a61-92aa-4582-e223-00d0a7f300c5"
      },
      "outputs": [
        {
          "output_type": "stream",
          "name": "stdout",
          "text": [
            "Generated text:\n",
            "\n",
            "when they achieve their problems, they achieve their problems, they achieve goals all by themselves •Men feel she trusts his ability to their problems, they need solutions when they achieve their goals all by themselves •Men like to achieve goals all by themselves •Men feel she trusts his ability to\n"
          ]
        }
      ],
      "source": [
        "import random\n",
        "\n",
        "# Step 1: Preprocess input text\n",
        "def tokenize_text(text):\n",
        "    return text.split()\n",
        "\n",
        "# Step 2: Build a Markov Chain (word-level, first-order)\n",
        "def build_markov_chain(words):\n",
        "    markov_chain = {}\n",
        "\n",
        "    for i in range(len(words) - 1):\n",
        "        current_word = words[i]\n",
        "        next_word = words[i + 1]\n",
        "\n",
        "        if current_word not in markov_chain:\n",
        "            markov_chain[current_word] = []\n",
        "\n",
        "        markov_chain[current_word].append(next_word)\n",
        "\n",
        "    return markov_chain\n",
        "\n",
        "# Step 3: Generate new text from the Markov Chain\n",
        "def generate_text(chain, start_word, max_length=50):\n",
        "    current_word = start_word\n",
        "    output = [current_word]\n",
        "\n",
        "    for _ in range(max_length - 1):\n",
        "        next_words = chain.get(current_word)\n",
        "        if not next_words:\n",
        "            break\n",
        "        current_word = random.choice(next_words)\n",
        "        output.append(current_word)\n",
        "\n",
        "    return ' '.join(output)\n",
        "\n",
        "# 🧪 Example usage\n",
        "input_text = \"\"\"•Women don't need solutions to their problems, they need empathy. But men need solutions when they tell the problem out loud.\n",
        "•Women tries to change him, but he feels being controlled\n",
        "•Men like to achieve goals all by themselves\n",
        "•Men feel good about them when they achieve their goals\n",
        "•When his solution is being rejected and he feels increasingly useless.\n",
        "•Women experience fulfilment through sharing and relating\n",
        "•When a woman offers advice he doesn’t feel she trusts his ability to do it himself.\n",
        "\"\"\"\n",
        "\n",
        "words = tokenize_text(input_text)\n",
        "chain = build_markov_chain(words)\n",
        "starting_word = random.choice(words)\n",
        "generated = generate_text(chain, starting_word)\n",
        "\n",
        "print(\"Generated text:\\n\")\n",
        "print(generated)\n"
      ]
    }
  ]
}